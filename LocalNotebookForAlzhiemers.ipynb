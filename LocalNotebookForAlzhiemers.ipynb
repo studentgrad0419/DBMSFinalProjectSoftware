{
 "cells": [
  {
   "cell_type": "code",
   "execution_count": 2,
   "id": "9c9ba4d0",
   "metadata": {},
   "outputs": [],
   "source": [
    "import pandas as pd \n",
    "import numpy as np \n",
    "import os\n",
    "import matplotlib.pyplot as plt\n",
    "\n",
    "from tensorflow.keras.layers import Input, Lambda, Dense, Flatten, Dropout\n",
    "from tensorflow.keras.models import Model\n",
    "from tensorflow.keras.applications.vgg19 import preprocess_input\n",
    "from tensorflow.keras.preprocessing import image, image_dataset_from_directory\n",
    "from tensorflow.keras.preprocessing.image import ImageDataGenerator\n",
    "from tensorflow.keras.models import Sequential\n",
    "from tensorflow import keras\n",
    "import tensorflow as tf\n",
    "\n",
    "from tensorflow.keras.applications.mobilenet_v2 import MobileNetV2 # MobileNetV2"
   ]
  },
  {
   "cell_type": "code",
   "execution_count": 46,
   "id": "2262f891",
   "metadata": {},
   "outputs": [],
   "source": [
    "#define base_directory where Alzheimer_s Dataset is located\n",
    "base_directory = 'Alzheimer_s Dataset'\n",
    "#base_directory = '/content/drive/MyDrive/' + base_directory #for google drive"
   ]
  },
  {
   "cell_type": "code",
   "execution_count": 47,
   "id": "4b5c8eed",
   "metadata": {},
   "outputs": [
    {
     "name": "stdout",
     "output_type": "stream",
     "text": [
      "Found 5121 images belonging to 4 classes.\n",
      "Found 1279 images belonging to 4 classes.\n"
     ]
    }
   ],
   "source": [
    "# For reproducability\n",
    "seed = 12222022\n",
    "tf.random.set_seed(seed)\n",
    "np.random.seed(seed)\n",
    "\n",
    "image_generator = ImageDataGenerator(rescale=1/255, validation_split=0)\n",
    "train_ds = image_generator.flow_from_directory(batch_size=16,\n",
    "                                                 directory= base_directory+'/train',\n",
    "                                                 shuffle=True,\n",
    "                                                 target_size=(224,224), \n",
    "                                                 subset=\"training\",\n",
    "                                                 class_mode='categorical')\n",
    "image_generator = ImageDataGenerator(rescale=1/255,validation_split=0.2) \n",
    "val_ds = image_generator.flow_from_directory(batch_size=16,\n",
    "                                                 directory= base_directory+'/test',\n",
    "                                                 shuffle=True,\n",
    "                                                 target_size=(224,224),\n",
    "                                                 class_mode='categorical')"
   ]
  },
  {
   "cell_type": "code",
   "execution_count": 6,
   "id": "26bddc3f",
   "metadata": {},
   "outputs": [
    {
     "name": "stdout",
     "output_type": "stream",
     "text": [
      "Downloading data from https://storage.googleapis.com/tensorflow/keras-applications/mobilenet_v2/mobilenet_v2_weights_tf_dim_ordering_tf_kernels_1.0_224_no_top.h5\n",
      "9412608/9406464 [==============================] - 1s 0us/step\n",
      "9420800/9406464 [==============================] - 1s 0us/step\n",
      "Epoch 1/50\n",
      "321/321 [==============================] - 81s 246ms/step - loss: 2.9816 - auc: 0.8264 - acc: 0.6395 - val_loss: 3.8816 - val_auc: 0.8190 - val_acc: 0.6388\n",
      "Epoch 2/50\n",
      "321/321 [==============================] - 76s 238ms/step - loss: 0.7054 - auc: 0.9570 - acc: 0.8508 - val_loss: 3.8375 - val_auc: 0.8124 - val_acc: 0.6427\n",
      "Epoch 3/50\n",
      "321/321 [==============================] - 76s 237ms/step - loss: 0.6618 - auc: 0.9614 - acc: 0.8746 - val_loss: 2.7144 - val_auc: 0.8336 - val_acc: 0.6638\n",
      "Epoch 4/50\n",
      "321/321 [==============================] - 76s 236ms/step - loss: 0.3280 - auc: 0.9836 - acc: 0.9250 - val_loss: 3.9581 - val_auc: 0.8199 - val_acc: 0.6638\n",
      "Epoch 5/50\n",
      "321/321 [==============================] - 76s 236ms/step - loss: 0.3656 - auc: 0.9822 - acc: 0.9293 - val_loss: 3.3383 - val_auc: 0.8415 - val_acc: 0.6873\n",
      "Epoch 6/50\n",
      "321/321 [==============================] - 74s 231ms/step - loss: 0.8249 - auc: 0.9636 - acc: 0.9033 - val_loss: 4.0797 - val_auc: 0.8177 - val_acc: 0.6529\n",
      "Epoch 7/50\n",
      "321/321 [==============================] - 74s 231ms/step - loss: 0.1929 - auc: 0.9915 - acc: 0.9613 - val_loss: 4.3820 - val_auc: 0.8258 - val_acc: 0.6802\n",
      "Epoch 8/50\n",
      "321/321 [==============================] - 74s 231ms/step - loss: 0.1505 - auc: 0.9921 - acc: 0.9658 - val_loss: 5.7657 - val_auc: 0.8113 - val_acc: 0.6661\n",
      "Epoch 9/50\n",
      "321/321 [==============================] - 75s 233ms/step - loss: 0.2892 - auc: 0.9849 - acc: 0.9531 - val_loss: 7.3031 - val_auc: 0.8063 - val_acc: 0.6646\n",
      "Epoch 10/50\n",
      "321/321 [==============================] - 76s 237ms/step - loss: 0.1536 - auc: 0.9922 - acc: 0.9746 - val_loss: 8.3628 - val_auc: 0.7979 - val_acc: 0.6489\n",
      "Epoch 11/50\n",
      "321/321 [==============================] - 76s 238ms/step - loss: 0.2661 - auc: 0.9877 - acc: 0.9631 - val_loss: 6.7582 - val_auc: 0.8054 - val_acc: 0.6661\n"
     ]
    },
    {
     "data": {
      "text/plain": [
       "<keras.callbacks.History at 0x231e1e551c0>"
      ]
     },
     "execution_count": 6,
     "metadata": {},
     "output_type": "execute_result"
    }
   ],
   "source": [
    "base_model = MobileNetV2(input_shape=(224,224,3), weights='imagenet', include_top=False)\n",
    "for layer in base_model.layers:\n",
    "    layer.trainable = False\n",
    "x = Flatten()(base_model.output)\n",
    "\n",
    "prediction = Dense(4, activation='softmax')(x)\n",
    "\n",
    "model = Model(inputs=base_model.input, outputs=prediction)\n",
    "\n",
    "model.compile(optimizer='adam',\n",
    "loss=tf.losses.CategoricalCrossentropy(),\n",
    "metrics=[keras.metrics.AUC(name='auc'),'acc'])\n",
    "callback = keras.callbacks.EarlyStopping(monitor='val_loss',\n",
    "                                            patience=8,\n",
    "                                            restore_best_weights=True)\n",
    "\n",
    "model.fit(train_ds, epochs=50, validation_data=val_ds, callbacks=callback)"
   ]
  },
  {
   "cell_type": "code",
   "execution_count": 7,
   "id": "55036d8a",
   "metadata": {},
   "outputs": [
    {
     "name": "stderr",
     "output_type": "stream",
     "text": [
      "C:\\Users\\micha\\AppData\\Roaming\\Python\\Python38\\site-packages\\keras\\engine\\functional.py:1410: CustomMaskWarning: Custom mask layers require a config and must override get_config. When loading, the custom mask layer must be passed to the custom_objects argument.\n",
      "  layer_config = serialize_layer_fn(layer)\n"
     ]
    }
   ],
   "source": [
    "export_path = \"models/output\"\n",
    "model.save(export_path+'AlzheimersMRI.h5')"
   ]
  },
  {
   "cell_type": "code",
   "execution_count": 21,
   "id": "8a2b8fbc",
   "metadata": {},
   "outputs": [],
   "source": [
    "from tensorflow.keras.preprocessing.image import load_img , img_to_array\n",
    "\n",
    "from PIL import Image"
   ]
  },
  {
   "cell_type": "code",
   "execution_count": 48,
   "id": "671384bf",
   "metadata": {},
   "outputs": [],
   "source": [
    "#picking from train to confirm classes notation\n",
    "filename = base_directory+\"/train/ModerateDemented/moderateDem18.jpg\"\n",
    "img = load_img(filename , color_mode=\"rgb\",target_size = (224 , 224))\n",
    "img = img_to_array(img)\n",
    "img = img.reshape(1 , 224 ,224 ,3)\n",
    "img = img.astype('float32')\n",
    "img = img/255.0\n",
    "result = model.predict(img)"
   ]
  },
  {
   "cell_type": "code",
   "execution_count": 49,
   "id": "43ba7abc",
   "metadata": {},
   "outputs": [
    {
     "name": "stdout",
     "output_type": "stream",
     "text": [
      "[[3.44848772e-08 1.00000000e+00 1.04829534e-14 7.61163712e-15]]\n"
     ]
    }
   ],
   "source": [
    "print(result)"
   ]
  },
  {
   "cell_type": "code",
   "execution_count": 50,
   "id": "30fcc54b",
   "metadata": {},
   "outputs": [],
   "source": [
    "classes = [\"mild\",\"moderate\",\"very_mild\",\"non\"]\n",
    "dict_result = {}\n",
    "for i in range(4):\n",
    "    dict_result[result[0][i]] = classes[i]\n",
    "res = result[0]\n",
    "res.sort()\n",
    "res = res[::-1]\n",
    "prob = res[:3]"
   ]
  },
  {
   "cell_type": "code",
   "execution_count": 51,
   "id": "6b99fa66",
   "metadata": {},
   "outputs": [],
   "source": [
    "prob_result = []\n",
    "class_result = []\n",
    "for i in range(3):\n",
    "    prob_result.append((prob[i]*100).round(2))\n",
    "    class_result.append(dict_result[prob[i]])"
   ]
  },
  {
   "cell_type": "code",
   "execution_count": 52,
   "id": "7671a3e0",
   "metadata": {},
   "outputs": [
    {
     "name": "stdout",
     "output_type": "stream",
     "text": [
      "[100.0, 0.0, 0.0]\n",
      "['moderate', 'mild', 'very_mild']\n"
     ]
    }
   ],
   "source": [
    "print(prob_result)\n",
    "print(class_result)"
   ]
  },
  {
   "cell_type": "code",
   "execution_count": 53,
   "id": "b9020d55",
   "metadata": {},
   "outputs": [
    {
     "name": "stdout",
     "output_type": "stream",
     "text": [
      "moderate  plan with a  100.0  probability\n"
     ]
    }
   ],
   "source": [
    "print(dict_result[prob[0]], \" plan with a \",(prob[0]*100).round(2), \" probability\")"
   ]
  },
  {
   "cell_type": "code",
   "execution_count": 60,
   "id": "ffa3c0d0",
   "metadata": {},
   "outputs": [
    {
     "name": "stdout",
     "output_type": "stream",
     "text": [
      "very_mild  plan with a  97.84  probability\n"
     ]
    }
   ],
   "source": [
    "#picking from train to confirm classes notation\n",
    "filename = base_directory+\"/test/NonDemented/26 (69).jpg\"\n",
    "img = load_img(filename , color_mode=\"rgb\",target_size = (224 , 224))\n",
    "img = img_to_array(img)\n",
    "img = img.reshape(1 , 224 ,224 ,3)\n",
    "img = img.astype('float32')\n",
    "img = img/255.0\n",
    "result = model.predict(img)\n",
    "\n",
    "classes = [\"mild\",\"moderate\",\"very_mild\",\"non\"]\n",
    "dict_result = {}\n",
    "for i in range(4):\n",
    "    dict_result[result[0][i]] = classes[i]\n",
    "res = result[0]\n",
    "res.sort()\n",
    "res = res[::-1]\n",
    "prob = res[:3]\n",
    "print(dict_result[prob[0]], \" plan with a \",(prob[0]*100).round(2), \" probability\")"
   ]
  },
  {
   "cell_type": "code",
   "execution_count": null,
   "id": "51889659",
   "metadata": {},
   "outputs": [],
   "source": []
  }
 ],
 "metadata": {
  "kernelspec": {
   "display_name": "Python 3",
   "language": "python",
   "name": "python3"
  },
  "language_info": {
   "codemirror_mode": {
    "name": "ipython",
    "version": 3
   },
   "file_extension": ".py",
   "mimetype": "text/x-python",
   "name": "python",
   "nbconvert_exporter": "python",
   "pygments_lexer": "ipython3",
   "version": "3.8.8"
  }
 },
 "nbformat": 4,
 "nbformat_minor": 5
}
